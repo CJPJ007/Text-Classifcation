{
  "nbformat": 4,
  "nbformat_minor": 0,
  "metadata": {
    "colab": {
      "name": "Janatahack Independence .ipynb",
      "provenance": [],
      "mount_file_id": "1xxIE_kM-SIACba7mu0Qve438PBzlWoTr",
      "authorship_tag": "ABX9TyM+xYjrxrgb+VpFmlmZ6qhm",
      "include_colab_link": true
    },
    "kernelspec": {
      "name": "python3",
      "display_name": "Python 3"
    },
    "accelerator": "GPU"
  },
  "cells": [
    {
      "cell_type": "markdown",
      "metadata": {
        "id": "view-in-github",
        "colab_type": "text"
      },
      "source": [
        "<a href=\"https://colab.research.google.com/github/CJPJ007/Text-Classifcation/blob/master/Janatahack_Independence_.ipynb\" target=\"_parent\"><img src=\"https://colab.research.google.com/assets/colab-badge.svg\" alt=\"Open In Colab\"/></a>"
      ]
    },
    {
      "cell_type": "code",
      "metadata": {
        "id": "WjNDDjcwTLIz",
        "colab_type": "code",
        "colab": {}
      },
      "source": [
        "import numpy as np\n",
        "import pandas as pd\n",
        "import matplotlib.pyplot as plt\n",
        "%matplotlib inline"
      ],
      "execution_count": 1,
      "outputs": []
    },
    {
      "cell_type": "code",
      "metadata": {
        "id": "Zyg4uBreZx2M",
        "colab_type": "code",
        "colab": {}
      },
      "source": [
        "import re\n",
        "import nltk\n",
        "import warnings\n",
        "from bs4 import BeautifulSoup\n",
        "warnings.filterwarnings(\"ignore\")\n",
        "\n",
        "import tensorflow as tf\n",
        "from tensorflow.keras import layers\n",
        "import tensorflow_datasets as tfds \n",
        "from google.colab import drive"
      ],
      "execution_count": 2,
      "outputs": []
    },
    {
      "cell_type": "code",
      "metadata": {
        "id": "H920ZjYcTijf",
        "colab_type": "code",
        "colab": {}
      },
      "source": [
        "train=pd.read_csv(\"/content/drive/My Drive/Data/Janatahack Independence Day/train.csv\")"
      ],
      "execution_count": 3,
      "outputs": []
    },
    {
      "cell_type": "code",
      "metadata": {
        "id": "TFd07jz0UH8i",
        "colab_type": "code",
        "colab": {
          "base_uri": "https://localhost:8080/",
          "height": 296
        },
        "outputId": "ed94af62-a0d8-4fda-ba0d-20a60bc2d60e"
      },
      "source": [
        "train.head()"
      ],
      "execution_count": 4,
      "outputs": [
        {
          "output_type": "execute_result",
          "data": {
            "text/html": [
              "<div>\n",
              "<style scoped>\n",
              "    .dataframe tbody tr th:only-of-type {\n",
              "        vertical-align: middle;\n",
              "    }\n",
              "\n",
              "    .dataframe tbody tr th {\n",
              "        vertical-align: top;\n",
              "    }\n",
              "\n",
              "    .dataframe thead th {\n",
              "        text-align: right;\n",
              "    }\n",
              "</style>\n",
              "<table border=\"1\" class=\"dataframe\">\n",
              "  <thead>\n",
              "    <tr style=\"text-align: right;\">\n",
              "      <th></th>\n",
              "      <th>ID</th>\n",
              "      <th>TITLE</th>\n",
              "      <th>ABSTRACT</th>\n",
              "      <th>Computer Science</th>\n",
              "      <th>Physics</th>\n",
              "      <th>Mathematics</th>\n",
              "      <th>Statistics</th>\n",
              "      <th>Quantitative Biology</th>\n",
              "      <th>Quantitative Finance</th>\n",
              "    </tr>\n",
              "  </thead>\n",
              "  <tbody>\n",
              "    <tr>\n",
              "      <th>0</th>\n",
              "      <td>1</td>\n",
              "      <td>Reconstructing Subject-Specific Effect Maps</td>\n",
              "      <td>Predictive models allow subject-specific inf...</td>\n",
              "      <td>1</td>\n",
              "      <td>0</td>\n",
              "      <td>0</td>\n",
              "      <td>0</td>\n",
              "      <td>0</td>\n",
              "      <td>0</td>\n",
              "    </tr>\n",
              "    <tr>\n",
              "      <th>1</th>\n",
              "      <td>2</td>\n",
              "      <td>Rotation Invariance Neural Network</td>\n",
              "      <td>Rotation invariance and translation invarian...</td>\n",
              "      <td>1</td>\n",
              "      <td>0</td>\n",
              "      <td>0</td>\n",
              "      <td>0</td>\n",
              "      <td>0</td>\n",
              "      <td>0</td>\n",
              "    </tr>\n",
              "    <tr>\n",
              "      <th>2</th>\n",
              "      <td>3</td>\n",
              "      <td>Spherical polyharmonics and Poisson kernels fo...</td>\n",
              "      <td>We introduce and develop the notion of spher...</td>\n",
              "      <td>0</td>\n",
              "      <td>0</td>\n",
              "      <td>1</td>\n",
              "      <td>0</td>\n",
              "      <td>0</td>\n",
              "      <td>0</td>\n",
              "    </tr>\n",
              "    <tr>\n",
              "      <th>3</th>\n",
              "      <td>4</td>\n",
              "      <td>A finite element approximation for the stochas...</td>\n",
              "      <td>The stochastic Landau--Lifshitz--Gilbert (LL...</td>\n",
              "      <td>0</td>\n",
              "      <td>0</td>\n",
              "      <td>1</td>\n",
              "      <td>0</td>\n",
              "      <td>0</td>\n",
              "      <td>0</td>\n",
              "    </tr>\n",
              "    <tr>\n",
              "      <th>4</th>\n",
              "      <td>5</td>\n",
              "      <td>Comparative study of Discrete Wavelet Transfor...</td>\n",
              "      <td>Fourier-transform infra-red (FTIR) spectra o...</td>\n",
              "      <td>1</td>\n",
              "      <td>0</td>\n",
              "      <td>0</td>\n",
              "      <td>1</td>\n",
              "      <td>0</td>\n",
              "      <td>0</td>\n",
              "    </tr>\n",
              "  </tbody>\n",
              "</table>\n",
              "</div>"
            ],
            "text/plain": [
              "   ID  ... Quantitative Finance\n",
              "0   1  ...                    0\n",
              "1   2  ...                    0\n",
              "2   3  ...                    0\n",
              "3   4  ...                    0\n",
              "4   5  ...                    0\n",
              "\n",
              "[5 rows x 9 columns]"
            ]
          },
          "metadata": {
            "tags": []
          },
          "execution_count": 4
        }
      ]
    },
    {
      "cell_type": "code",
      "metadata": {
        "id": "EdA1mVUKULdC",
        "colab_type": "code",
        "colab": {}
      },
      "source": [
        "train['TITLE']=train['TITLE'].str.lower()\n",
        "train['ABSTRACT']=train['ABSTRACT'].str.lower()"
      ],
      "execution_count": 5,
      "outputs": []
    },
    {
      "cell_type": "code",
      "metadata": {
        "id": "OOvZekxyUaKr",
        "colab_type": "code",
        "colab": {
          "base_uri": "https://localhost:8080/",
          "height": 296
        },
        "outputId": "67c4e742-8458-4a04-cb42-1059591d4e57"
      },
      "source": [
        "train.head()"
      ],
      "execution_count": 6,
      "outputs": [
        {
          "output_type": "execute_result",
          "data": {
            "text/html": [
              "<div>\n",
              "<style scoped>\n",
              "    .dataframe tbody tr th:only-of-type {\n",
              "        vertical-align: middle;\n",
              "    }\n",
              "\n",
              "    .dataframe tbody tr th {\n",
              "        vertical-align: top;\n",
              "    }\n",
              "\n",
              "    .dataframe thead th {\n",
              "        text-align: right;\n",
              "    }\n",
              "</style>\n",
              "<table border=\"1\" class=\"dataframe\">\n",
              "  <thead>\n",
              "    <tr style=\"text-align: right;\">\n",
              "      <th></th>\n",
              "      <th>ID</th>\n",
              "      <th>TITLE</th>\n",
              "      <th>ABSTRACT</th>\n",
              "      <th>Computer Science</th>\n",
              "      <th>Physics</th>\n",
              "      <th>Mathematics</th>\n",
              "      <th>Statistics</th>\n",
              "      <th>Quantitative Biology</th>\n",
              "      <th>Quantitative Finance</th>\n",
              "    </tr>\n",
              "  </thead>\n",
              "  <tbody>\n",
              "    <tr>\n",
              "      <th>0</th>\n",
              "      <td>1</td>\n",
              "      <td>reconstructing subject-specific effect maps</td>\n",
              "      <td>predictive models allow subject-specific inf...</td>\n",
              "      <td>1</td>\n",
              "      <td>0</td>\n",
              "      <td>0</td>\n",
              "      <td>0</td>\n",
              "      <td>0</td>\n",
              "      <td>0</td>\n",
              "    </tr>\n",
              "    <tr>\n",
              "      <th>1</th>\n",
              "      <td>2</td>\n",
              "      <td>rotation invariance neural network</td>\n",
              "      <td>rotation invariance and translation invarian...</td>\n",
              "      <td>1</td>\n",
              "      <td>0</td>\n",
              "      <td>0</td>\n",
              "      <td>0</td>\n",
              "      <td>0</td>\n",
              "      <td>0</td>\n",
              "    </tr>\n",
              "    <tr>\n",
              "      <th>2</th>\n",
              "      <td>3</td>\n",
              "      <td>spherical polyharmonics and poisson kernels fo...</td>\n",
              "      <td>we introduce and develop the notion of spher...</td>\n",
              "      <td>0</td>\n",
              "      <td>0</td>\n",
              "      <td>1</td>\n",
              "      <td>0</td>\n",
              "      <td>0</td>\n",
              "      <td>0</td>\n",
              "    </tr>\n",
              "    <tr>\n",
              "      <th>3</th>\n",
              "      <td>4</td>\n",
              "      <td>a finite element approximation for the stochas...</td>\n",
              "      <td>the stochastic landau--lifshitz--gilbert (ll...</td>\n",
              "      <td>0</td>\n",
              "      <td>0</td>\n",
              "      <td>1</td>\n",
              "      <td>0</td>\n",
              "      <td>0</td>\n",
              "      <td>0</td>\n",
              "    </tr>\n",
              "    <tr>\n",
              "      <th>4</th>\n",
              "      <td>5</td>\n",
              "      <td>comparative study of discrete wavelet transfor...</td>\n",
              "      <td>fourier-transform infra-red (ftir) spectra o...</td>\n",
              "      <td>1</td>\n",
              "      <td>0</td>\n",
              "      <td>0</td>\n",
              "      <td>1</td>\n",
              "      <td>0</td>\n",
              "      <td>0</td>\n",
              "    </tr>\n",
              "  </tbody>\n",
              "</table>\n",
              "</div>"
            ],
            "text/plain": [
              "   ID  ... Quantitative Finance\n",
              "0   1  ...                    0\n",
              "1   2  ...                    0\n",
              "2   3  ...                    0\n",
              "3   4  ...                    0\n",
              "4   5  ...                    0\n",
              "\n",
              "[5 rows x 9 columns]"
            ]
          },
          "metadata": {
            "tags": []
          },
          "execution_count": 6
        }
      ]
    },
    {
      "cell_type": "code",
      "metadata": {
        "id": "7-eXZppGUbrx",
        "colab_type": "code",
        "colab": {
          "base_uri": "https://localhost:8080/",
          "height": 282
        },
        "outputId": "7bd77336-cb90-4071-80bd-2fd1284a7fb7"
      },
      "source": [
        "train['Computer Science'].hist()"
      ],
      "execution_count": 7,
      "outputs": [
        {
          "output_type": "execute_result",
          "data": {
            "text/plain": [
              "<matplotlib.axes._subplots.AxesSubplot at 0x7f0636802320>"
            ]
          },
          "metadata": {
            "tags": []
          },
          "execution_count": 7
        },
        {
          "output_type": "display_data",
          "data": {
            "image/png": "[encoded data removed]",
            "text/plain": [
              "<Figure size 432x288 with 1 Axes>"
            ]
          },
          "metadata": {
            "tags": [],
            "needs_background": "light"
          }
        }
      ]
    },
    {
      "cell_type": "code",
      "metadata": {
        "id": "IwbPUV9xW6Em",
        "colab_type": "code",
        "colab": {
          "base_uri": "https://localhost:8080/",
          "height": 282
        },
        "outputId": "a6af89bd-a37a-44fa-ee10-ec067ca3f399"
      },
      "source": [
        "train['Physics'].hist()"
      ],
      "execution_count": 8,
      "outputs": [
        {
          "output_type": "execute_result",
          "data": {
            "text/plain": [
              "<matplotlib.axes._subplots.AxesSubplot at 0x7f063692d6d8>"
            ]
          },
          "metadata": {
            "tags": []
          },
          "execution_count": 8
        },
        {
          "output_type": "display_data",
          "data": {
            "image/png": "[encoded data removed]",
            "text/plain": [
              "<Figure size 432x288 with 1 Axes>"
            ]
          },
          "metadata": {
            "tags": [],
            "needs_background": "light"
          }
        }
      ]
    },
    {
      "cell_type": "code",
      "metadata": {
        "id": "-0XU8sEbXbOY",
        "colab_type": "code",
        "colab": {
          "base_uri": "https://localhost:8080/",
          "height": 285
        },
        "outputId": "1575da85-0a12-46b3-c815-7d957edd4f3a"
      },
      "source": [
        "train['Mathematics'].hist()"
      ],
      "execution_count": 9,
      "outputs": [
        {
          "output_type": "execute_result",
          "data": {
            "text/plain": [
              "<matplotlib.axes._subplots.AxesSubplot at 0x7f0636a6c320>"
            ]
          },
          "metadata": {
            "tags": []
          },
          "execution_count": 9
        },
        {
          "output_type": "display_data",
          "data": {
            "image/png": "[encoded data removed]",
            "text/plain": [
              "<Figure size 432x288 with 1 Axes>"
            ]
          },
          "metadata": {
            "tags": [],
            "needs_background": "light"
          }
        }
      ]
    },
    {
      "cell_type": "code",
      "metadata": {
        "id": "soNnSFluXfLB",
        "colab_type": "code",
        "colab": {
          "base_uri": "https://localhost:8080/",
          "height": 282
        },
        "outputId": "e27a6794-c0b9-40d5-addd-0e98c2e5a6c6"
      },
      "source": [
        "train['Statistics'].hist()"
      ],
      "execution_count": 10,
      "outputs": [
        {
          "output_type": "execute_result",
          "data": {
            "text/plain": [
              "<matplotlib.axes._subplots.AxesSubplot at 0x7f06368ce470>"
            ]
          },
          "metadata": {
            "tags": []
          },
          "execution_count": 10
        },
        {
          "output_type": "display_data",
          "data": {
            "image/png": "[encoded data removed]",
            "text/plain": [
              "<Figure size 432x288 with 1 Axes>"
            ]
          },
          "metadata": {
            "tags": [],
            "needs_background": "light"
          }
        }
      ]
    },
    {
      "cell_type": "code",
      "metadata": {
        "id": "YHLs-VkuXk1Q",
        "colab_type": "code",
        "colab": {
          "base_uri": "https://localhost:8080/",
          "height": 282
        },
        "outputId": "a6860fdb-d321-4cd5-afe1-0f4c0fe4aabd"
      },
      "source": [
        "train['Quantitative Biology'].hist()"
      ],
      "execution_count": 11,
      "outputs": [
        {
          "output_type": "execute_result",
          "data": {
            "text/plain": [
              "<matplotlib.axes._subplots.AxesSubplot at 0x7f0636968ba8>"
            ]
          },
          "metadata": {
            "tags": []
          },
          "execution_count": 11
        },
        {
          "output_type": "display_data",
          "data": {
            "image/png": "[encoded data removed]",
            "text/plain": [
              "<Figure size 432x288 with 1 Axes>"
            ]
          },
          "metadata": {
            "tags": [],
            "needs_background": "light"
          }
        }
      ]
    },
    {
      "cell_type": "code",
      "metadata": {
        "id": "FGe4FE8nXoNN",
        "colab_type": "code",
        "colab": {
          "base_uri": "https://localhost:8080/",
          "height": 282
        },
        "outputId": "6dce6a14-56d4-4e6c-8fd2-ee62f19ae091"
      },
      "source": [
        "train['Quantitative Finance'].hist()"
      ],
      "execution_count": 12,
      "outputs": [
        {
          "output_type": "execute_result",
          "data": {
            "text/plain": [
              "<matplotlib.axes._subplots.AxesSubplot at 0x7f0635f3da90>"
            ]
          },
          "metadata": {
            "tags": []
          },
          "execution_count": 12
        },
        {
          "output_type": "display_data",
          "data": {
            "image/png": "[encoded data removed]",
            "text/plain": [
              "<Figure size 432x288 with 1 Axes>"
            ]
          },
          "metadata": {
            "tags": [],
            "needs_background": "light"
          }
        }
      ]
    },
    {
      "cell_type": "code",
      "metadata": {
        "id": "LQiBAbvpXrWO",
        "colab_type": "code",
        "colab": {}
      },
      "source": [
        "def clean_text(text):\n",
        "  text=BeautifulSoup(text,'lxml').get_text()\n",
        "  text=re.sub(r\"@[a-zA-z0-9]+\",\" \",text)\n",
        "  text=re.sub(r\"https?://[a-zA-Z0-9./]+\",\" \",text)\n",
        "  text=re.sub(r\"[^a-zA-Z]\",\" \",text)\n",
        "  text=re.sub(r\" +\",\" \",text)\n",
        "  return text"
      ],
      "execution_count": 13,
      "outputs": []
    },
    {
      "cell_type": "code",
      "metadata": {
        "id": "QPfg-YS-Zc97",
        "colab_type": "code",
        "colab": {}
      },
      "source": [
        "train['TITLE']=train['TITLE'].apply(lambda x : clean_text(x))\n",
        "train['ABSTRACT']=train['ABSTRACT'].apply(lambda x : clean_text(x))"
      ],
      "execution_count": 14,
      "outputs": []
    },
    {
      "cell_type": "code",
      "metadata": {
        "id": "jcjcmwlbbCA8",
        "colab_type": "code",
        "colab": {
          "base_uri": "https://localhost:8080/",
          "height": 498
        },
        "outputId": "f937dd93-61cc-4664-8be9-31732ae0398b"
      },
      "source": [
        "train['TEXT']=train['TITLE']+train['ABSTRACT']\n",
        "train.head()"
      ],
      "execution_count": 15,
      "outputs": [
        {
          "output_type": "execute_result",
          "data": {
            "text/html": [
              "<div>\n",
              "<style scoped>\n",
              "    .dataframe tbody tr th:only-of-type {\n",
              "        vertical-align: middle;\n",
              "    }\n",
              "\n",
              "    .dataframe tbody tr th {\n",
              "        vertical-align: top;\n",
              "    }\n",
              "\n",
              "    .dataframe thead th {\n",
              "        text-align: right;\n",
              "    }\n",
              "</style>\n",
              "<table border=\"1\" class=\"dataframe\">\n",
              "  <thead>\n",
              "    <tr style=\"text-align: right;\">\n",
              "      <th></th>\n",
              "      <th>ID</th>\n",
              "      <th>TITLE</th>\n",
              "      <th>ABSTRACT</th>\n",
              "      <th>Computer Science</th>\n",
              "      <th>Physics</th>\n",
              "      <th>Mathematics</th>\n",
              "      <th>Statistics</th>\n",
              "      <th>Quantitative Biology</th>\n",
              "      <th>Quantitative Finance</th>\n",
              "      <th>TEXT</th>\n",
              "    </tr>\n",
              "  </thead>\n",
              "  <tbody>\n",
              "    <tr>\n",
              "      <th>0</th>\n",
              "      <td>1</td>\n",
              "      <td>reconstructing subject specific effect maps</td>\n",
              "      <td>predictive models allow subject specific infer...</td>\n",
              "      <td>1</td>\n",
              "      <td>0</td>\n",
              "      <td>0</td>\n",
              "      <td>0</td>\n",
              "      <td>0</td>\n",
              "      <td>0</td>\n",
              "      <td>reconstructing subject specific effect mapspre...</td>\n",
              "    </tr>\n",
              "    <tr>\n",
              "      <th>1</th>\n",
              "      <td>2</td>\n",
              "      <td>rotation invariance neural network</td>\n",
              "      <td>rotation invariance and translation invariance...</td>\n",
              "      <td>1</td>\n",
              "      <td>0</td>\n",
              "      <td>0</td>\n",
              "      <td>0</td>\n",
              "      <td>0</td>\n",
              "      <td>0</td>\n",
              "      <td>rotation invariance neural networkrotation inv...</td>\n",
              "    </tr>\n",
              "    <tr>\n",
              "      <th>2</th>\n",
              "      <td>3</td>\n",
              "      <td>spherical polyharmonics and poisson kernels fo...</td>\n",
              "      <td>we introduce and develop the notion of spheric...</td>\n",
              "      <td>0</td>\n",
              "      <td>0</td>\n",
              "      <td>1</td>\n",
              "      <td>0</td>\n",
              "      <td>0</td>\n",
              "      <td>0</td>\n",
              "      <td>spherical polyharmonics and poisson kernels fo...</td>\n",
              "    </tr>\n",
              "    <tr>\n",
              "      <th>3</th>\n",
              "      <td>4</td>\n",
              "      <td>a finite element approximation for the stochas...</td>\n",
              "      <td>the stochastic landau lifshitz gilbert llg equ...</td>\n",
              "      <td>0</td>\n",
              "      <td>0</td>\n",
              "      <td>1</td>\n",
              "      <td>0</td>\n",
              "      <td>0</td>\n",
              "      <td>0</td>\n",
              "      <td>a finite element approximation for the stochas...</td>\n",
              "    </tr>\n",
              "    <tr>\n",
              "      <th>4</th>\n",
              "      <td>5</td>\n",
              "      <td>comparative study of discrete wavelet transfor...</td>\n",
              "      <td>fourier transform infra red ftir spectra of sa...</td>\n",
              "      <td>1</td>\n",
              "      <td>0</td>\n",
              "      <td>0</td>\n",
              "      <td>1</td>\n",
              "      <td>0</td>\n",
              "      <td>0</td>\n",
              "      <td>comparative study of discrete wavelet transfor...</td>\n",
              "    </tr>\n",
              "  </tbody>\n",
              "</table>\n",
              "</div>"
            ],
            "text/plain": [
              "   ID  ...                                               TEXT\n",
              "0   1  ...  reconstructing subject specific effect mapspre...\n",
              "1   2  ...  rotation invariance neural networkrotation inv...\n",
              "2   3  ...  spherical polyharmonics and poisson kernels fo...\n",
              "3   4  ...  a finite element approximation for the stochas...\n",
              "4   5  ...  comparative study of discrete wavelet transfor...\n",
              "\n",
              "[5 rows x 10 columns]"
            ]
          },
          "metadata": {
            "tags": []
          },
          "execution_count": 15
        }
      ]
    },
    {
      "cell_type": "code",
      "metadata": {
        "id": "xuFTihNoZ97_",
        "colab_type": "code",
        "colab": {}
      },
      "source": [
        "tokenizer=tfds.features.text.SubwordTextEncoder.build_from_corpus(\n",
        "    train['TEXT'],\n",
        "    2**16\n",
        ")\n",
        "data=[tokenizer.encode(sentence) for sentence in train['TEXT']]"
      ],
      "execution_count": 16,
      "outputs": []
    },
    {
      "cell_type": "code",
      "metadata": {
        "id": "cAeBOI8vauij",
        "colab_type": "code",
        "colab": {}
      },
      "source": [
        "MAX_LEN=max([len(sentence) for sentence in data])\n",
        "data=tf.keras.preprocessing.sequence.pad_sequences(\n",
        "    data,\n",
        "    value=0,\n",
        "    padding='post',\n",
        "    maxlen=MAX_LEN\n",
        ") \n",
        "data_labels=train['Computer Science'].values"
      ],
      "execution_count": 17,
      "outputs": []
    },
    {
      "cell_type": "code",
      "metadata": {
        "id": "1MOXSdV5bW1Y",
        "colab_type": "code",
        "colab": {}
      },
      "source": [
        "from sklearn.model_selection import train_test_split\n",
        "(X_train,X_test,Y_train,Y_test)=train_test_split(data,data_labels,\n",
        "                                                 test_size=0.2,\n",
        "                                                 random_state=1)\n",
        "(X_test,X_val,Y_test,Y_val)=train_test_split(X_test,Y_test\n",
        "                                             ,test_size=0.5\n",
        "                                             ,random_state=1)"
      ],
      "execution_count": 18,
      "outputs": []
    },
    {
      "cell_type": "code",
      "metadata": {
        "id": "mitZjHbRbbgc",
        "colab_type": "code",
        "colab": {}
      },
      "source": [
        "class DCNN(tf.keras.Model):\n",
        "  def __init__(self\n",
        "               ,vocab_size\n",
        "               ,emb_dim=128\n",
        "               ,nb_filters=50\n",
        "               ,FFN_units=512\n",
        "               ,nb_classes=2\n",
        "               ,dropout_rate=0.1\n",
        "               ,training=False\n",
        "               ,name='dcnn'):\n",
        "    super(DCNN,self).__init__(name=name)\n",
        "\n",
        "    self.embedding=layers.Embedding(vocab_size,emb_dim)\n",
        "\n",
        "    self.bigram=layers.Conv1D(filters=nb_filters\n",
        "                              ,kernel_size=2\n",
        "                              ,padding=\"valid\"\n",
        "                              ,activation='relu')\n",
        "    self.pool_1=layers.GlobalMaxPool1D()\n",
        "    self.trigram=layers.Conv1D(filters=nb_filters\n",
        "                              ,kernel_size=3\n",
        "                              ,padding=\"valid\"\n",
        "                              ,activation='relu')\n",
        "    self.pool_2=layers.GlobalMaxPool1D()\n",
        "    self.fourgram=layers.Conv1D(filters=nb_filters\n",
        "                              ,kernel_size=4\n",
        "                              ,padding=\"valid\"\n",
        "                              ,activation='relu')\n",
        "    self.pool_3=layers.GlobalMaxPool1D()\n",
        "    self.dense_1=layers.Dense(units=FFN_units,activation='relu')\n",
        "    self.dropout=layers.Dropout(rate=dropout_rate)\n",
        "    if nb_classes==2:\n",
        "      self.last_dense=layers.Dense(1,activation='sigmoid')\n",
        "    else:\n",
        "      self.last_dense=layers.Dense(nb_classes,activation='softmax')\n",
        "\n",
        "  def call(self,inputs,training):\n",
        "    x=self.embedding(inputs)\n",
        "    x_1=self.bigram(x)\n",
        "    x_1=self.pool_1(x_1)\n",
        "    x_2=self.trigram(x)\n",
        "    x_2=self.pool_2(x_2)\n",
        "    x_3=self.fourgram(x)\n",
        "    x_3=self.pool_3(x_3)\n",
        "\n",
        "    merged=tf.concat([x_1,x_2,x_3],axis=-1)\n",
        "    merged=self.dense_1(merged)\n",
        "    merged=self.dropout(merged,training)\n",
        "    output=self.last_dense(merged)\n",
        "\n",
        "    return output \n"
      ],
      "execution_count": 19,
      "outputs": []
    },
    {
      "cell_type": "code",
      "metadata": {
        "id": "73lYB-ywbhmQ",
        "colab_type": "code",
        "colab": {}
      },
      "source": [
        "VOCAB_SIZE=tokenizer.vocab_size\n",
        "\n",
        "EMB_DIM=200\n",
        "NB_FILTERS=100\n",
        "NB_CLASSES=len(set(data_labels))\n",
        "FFN_UNITS=128\n",
        "\n",
        "DROPOUT_RATE=0.5\n",
        "\n",
        "NB_EPOCHS=5\n",
        "BATCH_SIZE=64"
      ],
      "execution_count": 20,
      "outputs": []
    },
    {
      "cell_type": "code",
      "metadata": {
        "id": "rccg-qnZbkNB",
        "colab_type": "code",
        "colab": {}
      },
      "source": [
        "dcnn=DCNN(vocab_size=VOCAB_SIZE,\n",
        "          FFN_units=FFN_UNITS,\n",
        "          nb_filters=NB_FILTERS,\n",
        "          nb_classes=NB_CLASSES,\n",
        "          dropout_rate=DROPOUT_RATE,\n",
        "          emb_dim=EMB_DIM)"
      ],
      "execution_count": 21,
      "outputs": []
    },
    {
      "cell_type": "code",
      "metadata": {
        "id": "FeEGDk7xbnV9",
        "colab_type": "code",
        "colab": {}
      },
      "source": [
        "dcnn.compile(optimizer='adam',loss='binary_crossentropy',\n",
        "               metrics=['accuracy'])"
      ],
      "execution_count": 22,
      "outputs": []
    },
    {
      "cell_type": "code",
      "metadata": {
        "id": "m5fKskeSb40K",
        "colab_type": "code",
        "colab": {
          "base_uri": "https://localhost:8080/",
          "height": 202
        },
        "outputId": "94058907-38eb-4193-8a2d-246c81cfcc79"
      },
      "source": [
        "dcnn.fit(X_train,Y_train,epochs=NB_EPOCHS,batch_size=BATCH_SIZE,\n",
        "         validation_data=(X_val,Y_val))"
      ],
      "execution_count": 23,
      "outputs": [
        {
          "output_type": "stream",
          "text": [
            "Epoch 1/5\n",
            "263/263 [==============================] - 35s 135ms/step - loss: 0.4309 - accuracy: 0.7927 - val_loss: 0.3077 - val_accuracy: 0.8661\n",
            "Epoch 2/5\n",
            "263/263 [==============================] - 36s 135ms/step - loss: 0.2348 - accuracy: 0.9073 - val_loss: 0.2981 - val_accuracy: 0.8732\n",
            "Epoch 3/5\n",
            "263/263 [==============================] - 36s 135ms/step - loss: 0.0939 - accuracy: 0.9695 - val_loss: 0.3798 - val_accuracy: 0.8627\n",
            "Epoch 4/5\n",
            "263/263 [==============================] - 35s 134ms/step - loss: 0.0167 - accuracy: 0.9965 - val_loss: 0.4996 - val_accuracy: 0.8561\n",
            "Epoch 5/5\n",
            "263/263 [==============================] - 35s 134ms/step - loss: 0.0028 - accuracy: 0.9998 - val_loss: 0.5898 - val_accuracy: 0.8594\n"
          ],
          "name": "stdout"
        },
        {
          "output_type": "execute_result",
          "data": {
            "text/plain": [
              "<tensorflow.python.keras.callbacks.History at 0x7f0631458f60>"
            ]
          },
          "metadata": {
            "tags": []
          },
          "execution_count": 23
        }
      ]
    },
    {
      "cell_type": "code",
      "metadata": {
        "id": "_cZLpjw_b9Se",
        "colab_type": "code",
        "colab": {
          "base_uri": "https://localhost:8080/",
          "height": 50
        },
        "outputId": "7c3152e8-9cdc-416a-a5ff-8a2b1f245f26"
      },
      "source": [
        "dcnn.evaluate(X_test,Y_test,batch_size=BATCH_SIZE)"
      ],
      "execution_count": 24,
      "outputs": [
        {
          "output_type": "stream",
          "text": [
            "33/33 [==============================] - 0s 10ms/step - loss: 0.6085 - accuracy: 0.8560\n"
          ],
          "name": "stdout"
        },
        {
          "output_type": "execute_result",
          "data": {
            "text/plain": [
              "[0.6084951758384705, 0.8559847474098206]"
            ]
          },
          "metadata": {
            "tags": []
          },
          "execution_count": 24
        }
      ]
    },
    {
      "cell_type": "code",
      "metadata": {
        "id": "5M2MypmshbKF",
        "colab_type": "code",
        "colab": {}
      },
      "source": [
        "dcnn_2=DCNN(vocab_size=VOCAB_SIZE,\n",
        "          FFN_units=FFN_UNITS,\n",
        "          nb_filters=NB_FILTERS,\n",
        "          nb_classes=NB_CLASSES,\n",
        "          dropout_rate=DROPOUT_RATE,\n",
        "          emb_dim=EMB_DIM)"
      ],
      "execution_count": 25,
      "outputs": []
    },
    {
      "cell_type": "code",
      "metadata": {
        "id": "PSHS9uyWhg5Z",
        "colab_type": "code",
        "colab": {}
      },
      "source": [
        "dcnn_2.compile(optimizer='adam',loss='binary_crossentropy',\n",
        "               metrics=['accuracy'])"
      ],
      "execution_count": 26,
      "outputs": []
    },
    {
      "cell_type": "code",
      "metadata": {
        "id": "rpvEjhUkhgzp",
        "colab_type": "code",
        "colab": {}
      },
      "source": [
        "data_labels=train['Physics'].values\n",
        "(X_train,X_test,Y_train,Y_test)=train_test_split(data,data_labels,\n",
        "                                                 test_size=0.2,\n",
        "                                                 random_state=1)\n",
        "(X_test,X_val,Y_test,Y_val)=train_test_split(X_test,Y_test\n",
        "                                             ,test_size=0.5\n",
        "                                             ,random_state=1)"
      ],
      "execution_count": 27,
      "outputs": []
    },
    {
      "cell_type": "code",
      "metadata": {
        "id": "JOs-Tqpuhgxg",
        "colab_type": "code",
        "colab": {
          "base_uri": "https://localhost:8080/",
          "height": 202
        },
        "outputId": "06d75999-ee8c-4126-d69d-2c8142ba8083"
      },
      "source": [
        "dcnn_2.fit(X_train,Y_train,epochs=NB_EPOCHS,batch_size=BATCH_SIZE,\n",
        "         validation_data=(X_val,Y_val))"
      ],
      "execution_count": 28,
      "outputs": [
        {
          "output_type": "stream",
          "text": [
            "Epoch 1/5\n",
            "263/263 [==============================] - 34s 129ms/step - loss: 0.3109 - accuracy: 0.8665 - val_loss: 0.1724 - val_accuracy: 0.9342\n",
            "Epoch 2/5\n",
            "263/263 [==============================] - 34s 129ms/step - loss: 0.1081 - accuracy: 0.9604 - val_loss: 0.1732 - val_accuracy: 0.9290\n",
            "Epoch 3/5\n",
            "263/263 [==============================] - 34s 129ms/step - loss: 0.0284 - accuracy: 0.9920 - val_loss: 0.2157 - val_accuracy: 0.9318\n",
            "Epoch 4/5\n",
            "263/263 [==============================] - 34s 128ms/step - loss: 0.0041 - accuracy: 0.9992 - val_loss: 0.2624 - val_accuracy: 0.9366\n",
            "Epoch 5/5\n",
            "263/263 [==============================] - 34s 129ms/step - loss: 9.1625e-04 - accuracy: 1.0000 - val_loss: 0.2925 - val_accuracy: 0.9337\n"
          ],
          "name": "stdout"
        },
        {
          "output_type": "execute_result",
          "data": {
            "text/plain": [
              "<tensorflow.python.keras.callbacks.History at 0x7f06305d1e10>"
            ]
          },
          "metadata": {
            "tags": []
          },
          "execution_count": 28
        }
      ]
    },
    {
      "cell_type": "code",
      "metadata": {
        "id": "OJZ7onkpie6n",
        "colab_type": "code",
        "colab": {
          "base_uri": "https://localhost:8080/",
          "height": 50
        },
        "outputId": "165c9d59-bb23-4593-fa66-c0c72e2af952"
      },
      "source": [
        "dcnn_2.evaluate(X_test,Y_test,batch_size=BATCH_SIZE)"
      ],
      "execution_count": 29,
      "outputs": [
        {
          "output_type": "stream",
          "text": [
            "33/33 [==============================] - 0s 9ms/step - loss: 0.3152 - accuracy: 0.9294\n"
          ],
          "name": "stdout"
        },
        {
          "output_type": "execute_result",
          "data": {
            "text/plain": [
              "[0.3151969909667969, 0.9294229745864868]"
            ]
          },
          "metadata": {
            "tags": []
          },
          "execution_count": 29
        }
      ]
    },
    {
      "cell_type": "code",
      "metadata": {
        "id": "1sdwoD8shgwh",
        "colab_type": "code",
        "colab": {
          "base_uri": "https://localhost:8080/",
          "height": 202
        },
        "outputId": "56299ec5-6a2f-4c03-8f86-64b761254b34"
      },
      "source": [
        "dcnn_3=DCNN(vocab_size=VOCAB_SIZE,\n",
        "          FFN_units=FFN_UNITS,\n",
        "          nb_filters=NB_FILTERS,\n",
        "          nb_classes=NB_CLASSES,\n",
        "          dropout_rate=DROPOUT_RATE,\n",
        "          emb_dim=EMB_DIM)\n",
        "\n",
        "dcnn_3.compile(optimizer='adam',loss='binary_crossentropy',\n",
        "               metrics=['accuracy'])\n",
        "\n",
        "data_labels=train['Mathematics'].values\n",
        "(X_train,X_test,Y_train,Y_test)=train_test_split(data,data_labels,\n",
        "                                                 test_size=0.2,\n",
        "                                                 random_state=1)\n",
        "(X_test,X_val,Y_test,Y_val)=train_test_split(X_test,Y_test\n",
        "                                             ,test_size=0.5\n",
        "                                             ,random_state=1)\n",
        "\n",
        "dcnn_3.fit(X_train,Y_train,epochs=NB_EPOCHS,batch_size=BATCH_SIZE,\n",
        "         validation_data=(X_val,Y_val))"
      ],
      "execution_count": 30,
      "outputs": [
        {
          "output_type": "stream",
          "text": [
            "Epoch 1/5\n",
            "263/263 [==============================] - 36s 136ms/step - loss: 0.3483 - accuracy: 0.8447 - val_loss: 0.2193 - val_accuracy: 0.9104\n",
            "Epoch 2/5\n",
            "263/263 [==============================] - 36s 135ms/step - loss: 0.1683 - accuracy: 0.9354 - val_loss: 0.2226 - val_accuracy: 0.9123\n",
            "Epoch 3/5\n",
            "263/263 [==============================] - 36s 135ms/step - loss: 0.0659 - accuracy: 0.9777 - val_loss: 0.2648 - val_accuracy: 0.9104\n",
            "Epoch 4/5\n",
            "263/263 [==============================] - 35s 135ms/step - loss: 0.0117 - accuracy: 0.9977 - val_loss: 0.3813 - val_accuracy: 0.8999\n",
            "Epoch 5/5\n",
            "263/263 [==============================] - 36s 136ms/step - loss: 0.0020 - accuracy: 0.9999 - val_loss: 0.4197 - val_accuracy: 0.9047\n"
          ],
          "name": "stdout"
        },
        {
          "output_type": "execute_result",
          "data": {
            "text/plain": [
              "<tensorflow.python.keras.callbacks.History at 0x7f0632e4e6d8>"
            ]
          },
          "metadata": {
            "tags": []
          },
          "execution_count": 30
        }
      ]
    },
    {
      "cell_type": "code",
      "metadata": {
        "id": "8EJYUQq4hgvV",
        "colab_type": "code",
        "colab": {
          "base_uri": "https://localhost:8080/",
          "height": 50
        },
        "outputId": "0dffa8c0-5a04-4128-c31f-f7fec3760627"
      },
      "source": [
        "dcnn_3.evaluate(X_test,Y_test,batch_size=BATCH_SIZE)"
      ],
      "execution_count": 31,
      "outputs": [
        {
          "output_type": "stream",
          "text": [
            "33/33 [==============================] - 0s 9ms/step - loss: 0.4746 - accuracy: 0.8913\n"
          ],
          "name": "stdout"
        },
        {
          "output_type": "execute_result",
          "data": {
            "text/plain": [
              "[0.4746202826499939, 0.8912732601165771]"
            ]
          },
          "metadata": {
            "tags": []
          },
          "execution_count": 31
        }
      ]
    },
    {
      "cell_type": "code",
      "metadata": {
        "id": "_GdEkNEFilnl",
        "colab_type": "code",
        "colab": {
          "base_uri": "https://localhost:8080/",
          "height": 202
        },
        "outputId": "8919a284-051a-45ca-e211-cb1cd816c859"
      },
      "source": [
        "dcnn_4=DCNN(vocab_size=VOCAB_SIZE,\n",
        "          FFN_units=FFN_UNITS,\n",
        "          nb_filters=NB_FILTERS,\n",
        "          nb_classes=NB_CLASSES,\n",
        "          dropout_rate=DROPOUT_RATE,\n",
        "          emb_dim=EMB_DIM)\n",
        "\n",
        "dcnn_4.compile(optimizer='adam',loss='binary_crossentropy',\n",
        "               metrics=['accuracy'])\n",
        "\n",
        "data_labels=train['Statistics'].values\n",
        "(X_train,X_test,Y_train,Y_test)=train_test_split(data,data_labels,\n",
        "                                                 test_size=0.2,\n",
        "                                                 random_state=1)\n",
        "(X_test,X_val,Y_test,Y_val)=train_test_split(X_test,Y_test\n",
        "                                             ,test_size=0.5\n",
        "                                             ,random_state=1)\n",
        "\n",
        "dcnn_4.fit(X_train,Y_train,epochs=NB_EPOCHS,batch_size=BATCH_SIZE,\n",
        "         validation_data=(X_val,Y_val))"
      ],
      "execution_count": 32,
      "outputs": [
        {
          "output_type": "stream",
          "text": [
            "Epoch 1/5\n",
            "263/263 [==============================] - 36s 138ms/step - loss: 0.3739 - accuracy: 0.8291 - val_loss: 0.2512 - val_accuracy: 0.8880\n",
            "Epoch 2/5\n",
            "263/263 [==============================] - 36s 138ms/step - loss: 0.1991 - accuracy: 0.9189 - val_loss: 0.2573 - val_accuracy: 0.8842\n",
            "Epoch 3/5\n",
            "263/263 [==============================] - 36s 137ms/step - loss: 0.0899 - accuracy: 0.9700 - val_loss: 0.2850 - val_accuracy: 0.8870\n",
            "Epoch 4/5\n",
            "263/263 [==============================] - 36s 138ms/step - loss: 0.0230 - accuracy: 0.9950 - val_loss: 0.3972 - val_accuracy: 0.8823\n",
            "Epoch 5/5\n",
            "263/263 [==============================] - 36s 138ms/step - loss: 0.0050 - accuracy: 0.9993 - val_loss: 0.4657 - val_accuracy: 0.8770\n"
          ],
          "name": "stdout"
        },
        {
          "output_type": "execute_result",
          "data": {
            "text/plain": [
              "<tensorflow.python.keras.callbacks.History at 0x7f0631b30be0>"
            ]
          },
          "metadata": {
            "tags": []
          },
          "execution_count": 32
        }
      ]
    },
    {
      "cell_type": "code",
      "metadata": {
        "id": "I7ecFx3chgp7",
        "colab_type": "code",
        "colab": {
          "base_uri": "https://localhost:8080/",
          "height": 50
        },
        "outputId": "c1446b28-8a06-4552-f2e8-e3ea39e44561"
      },
      "source": [
        "dcnn_4.evaluate(X_test,Y_test,batch_size=BATCH_SIZE)"
      ],
      "execution_count": 33,
      "outputs": [
        {
          "output_type": "stream",
          "text": [
            "33/33 [==============================] - 0s 10ms/step - loss: 0.5033 - accuracy: 0.8798\n"
          ],
          "name": "stdout"
        },
        {
          "output_type": "execute_result",
          "data": {
            "text/plain": [
              "[0.5032674074172974, 0.8798283338546753]"
            ]
          },
          "metadata": {
            "tags": []
          },
          "execution_count": 33
        }
      ]
    },
    {
      "cell_type": "code",
      "metadata": {
        "id": "KQu3-yzJimFz",
        "colab_type": "code",
        "colab": {
          "base_uri": "https://localhost:8080/",
          "height": 202
        },
        "outputId": "10989129-1999-42de-e626-8bb683dc00ef"
      },
      "source": [
        "from imblearn.over_sampling import ADASYN\n",
        "over=ADASYN()\n",
        "dcnn_5=DCNN(vocab_size=VOCAB_SIZE,\n",
        "          FFN_units=FFN_UNITS,\n",
        "          nb_filters=NB_FILTERS,\n",
        "          nb_classes=NB_CLASSES,\n",
        "          dropout_rate=DROPOUT_RATE,\n",
        "          emb_dim=EMB_DIM)\n",
        "\n",
        "dcnn_5.compile(optimizer='adam',loss='binary_crossentropy',\n",
        "               metrics=['accuracy'])\n",
        "\n",
        "data_labels=train['Quantitative Biology'].values\n",
        "x,y=over.fit_sample(data,data_labels)\n",
        "(X_train,X_test,Y_train,Y_test)=train_test_split(x,y,\n",
        "                                                 test_size=0.2,\n",
        "                                                 random_state=1)\n",
        "(X_test,X_val,Y_test,Y_val)=train_test_split(X_test,Y_test\n",
        "                                             ,test_size=0.5\n",
        "                                             ,random_state=1)\n",
        "\n",
        "dcnn_5.fit(X_train,Y_train,epochs=NB_EPOCHS,batch_size=BATCH_SIZE,\n",
        "         validation_data=(X_val,Y_val))"
      ],
      "execution_count": 34,
      "outputs": [
        {
          "output_type": "stream",
          "text": [
            "Epoch 1/5\n",
            "508/508 [==============================] - 69s 136ms/step - loss: 0.1153 - accuracy: 0.9625 - val_loss: 0.0539 - val_accuracy: 0.9835\n",
            "Epoch 2/5\n",
            "508/508 [==============================] - 69s 135ms/step - loss: 0.0258 - accuracy: 0.9925 - val_loss: 0.0539 - val_accuracy: 0.9852\n",
            "Epoch 3/5\n",
            "508/508 [==============================] - 69s 135ms/step - loss: 0.0054 - accuracy: 0.9981 - val_loss: 0.1058 - val_accuracy: 0.9825\n",
            "Epoch 4/5\n",
            "508/508 [==============================] - 69s 135ms/step - loss: 0.0017 - accuracy: 0.9995 - val_loss: 0.0782 - val_accuracy: 0.9850\n",
            "Epoch 5/5\n",
            "508/508 [==============================] - 69s 136ms/step - loss: 2.5824e-04 - accuracy: 1.0000 - val_loss: 0.0866 - val_accuracy: 0.9857\n"
          ],
          "name": "stdout"
        },
        {
          "output_type": "execute_result",
          "data": {
            "text/plain": [
              "<tensorflow.python.keras.callbacks.History at 0x7f0632cd8dd8>"
            ]
          },
          "metadata": {
            "tags": []
          },
          "execution_count": 34
        }
      ]
    },
    {
      "cell_type": "code",
      "metadata": {
        "id": "_2G7U9wShgny",
        "colab_type": "code",
        "colab": {
          "base_uri": "https://localhost:8080/",
          "height": 50
        },
        "outputId": "9f3e0556-4745-432d-ce86-3def67580efb"
      },
      "source": [
        "dcnn_5.evaluate(X_test,Y_test,batch_size=BATCH_SIZE)"
      ],
      "execution_count": 35,
      "outputs": [
        {
          "output_type": "stream",
          "text": [
            "64/64 [==============================] - 1s 9ms/step - loss: 0.0723 - accuracy: 0.9867\n"
          ],
          "name": "stdout"
        },
        {
          "output_type": "execute_result",
          "data": {
            "text/plain": [
              "[0.07225962728261948, 0.9866962432861328]"
            ]
          },
          "metadata": {
            "tags": []
          },
          "execution_count": 35
        }
      ]
    },
    {
      "cell_type": "code",
      "metadata": {
        "id": "t2pkvPTGimyk",
        "colab_type": "code",
        "colab": {
          "base_uri": "https://localhost:8080/",
          "height": 202
        },
        "outputId": "ccd4e240-e1d6-4d5a-f54b-bd85b33f7048"
      },
      "source": [
        "over_2=ADASYN()\n",
        "dcnn_6=DCNN(vocab_size=VOCAB_SIZE,\n",
        "          FFN_units=FFN_UNITS,\n",
        "          nb_filters=NB_FILTERS,\n",
        "          nb_classes=NB_CLASSES,\n",
        "          dropout_rate=DROPOUT_RATE,\n",
        "          emb_dim=EMB_DIM)\n",
        "\n",
        "dcnn_6.compile(optimizer='adam',loss='binary_crossentropy',\n",
        "               metrics=['accuracy'])\n",
        "\n",
        "data_labels=train['Quantitative Finance'].values\n",
        "x,y=over_2.fit_sample(data,data_labels)\n",
        "(X_train,X_test,Y_train,Y_test)=train_test_split(x,y,\n",
        "                                                 test_size=0.2,\n",
        "                                                 random_state=1)\n",
        "(X_test,X_val,Y_test,Y_val)=train_test_split(X_test,Y_test\n",
        "                                             ,test_size=0.5\n",
        "                                             ,random_state=1)\n",
        "\n",
        "dcnn_6.fit(X_train,Y_train,epochs=NB_EPOCHS,batch_size=BATCH_SIZE,\n",
        "         validation_data=(X_val,Y_val))"
      ],
      "execution_count": 36,
      "outputs": [
        {
          "output_type": "stream",
          "text": [
            "Epoch 1/5\n",
            "519/519 [==============================] - 68s 131ms/step - loss: 0.0889 - accuracy: 0.9684 - val_loss: 0.0270 - val_accuracy: 0.9945\n",
            "Epoch 2/5\n",
            "519/519 [==============================] - 68s 131ms/step - loss: 0.0129 - accuracy: 0.9967 - val_loss: 0.0254 - val_accuracy: 0.9940\n",
            "Epoch 3/5\n",
            "519/519 [==============================] - 68s 130ms/step - loss: 0.0026 - accuracy: 0.9993 - val_loss: 0.0313 - val_accuracy: 0.9945\n",
            "Epoch 4/5\n",
            "519/519 [==============================] - 68s 131ms/step - loss: 9.4928e-04 - accuracy: 0.9998 - val_loss: 0.0432 - val_accuracy: 0.9928\n",
            "Epoch 5/5\n",
            "519/519 [==============================] - 68s 131ms/step - loss: 0.0015 - accuracy: 0.9996 - val_loss: 0.0378 - val_accuracy: 0.9947\n"
          ],
          "name": "stdout"
        },
        {
          "output_type": "execute_result",
          "data": {
            "text/plain": [
              "<tensorflow.python.keras.callbacks.History at 0x7f0631d54978>"
            ]
          },
          "metadata": {
            "tags": []
          },
          "execution_count": 36
        }
      ]
    },
    {
      "cell_type": "code",
      "metadata": {
        "id": "AXstTjmjijv3",
        "colab_type": "code",
        "colab": {
          "base_uri": "https://localhost:8080/",
          "height": 50
        },
        "outputId": "a4022ce8-0cf0-4e3a-fcf3-163a76643c64"
      },
      "source": [
        "dcnn_6.evaluate(X_test,Y_test,batch_size=BATCH_SIZE)"
      ],
      "execution_count": 37,
      "outputs": [
        {
          "output_type": "stream",
          "text": [
            "65/65 [==============================] - 1s 9ms/step - loss: 0.0351 - accuracy: 0.9940\n"
          ],
          "name": "stdout"
        },
        {
          "output_type": "execute_result",
          "data": {
            "text/plain": [
              "[0.03512975946068764, 0.9939715266227722]"
            ]
          },
          "metadata": {
            "tags": []
          },
          "execution_count": 37
        }
      ]
    },
    {
      "cell_type": "code",
      "metadata": {
        "id": "qKbYksC5pMtd",
        "colab_type": "code",
        "colab": {}
      },
      "source": [
        "test=pd.read_csv('/content/drive/My Drive/Data/Janatahack Independence Day/test.csv')\n",
        "test['TITLE']=test['TITLE'].apply(lambda x : clean_text(x))\n",
        "test['ABSTRACT']=test['ABSTRACT'].apply(lambda x : clean_text(x))\n",
        "test['TEXT']=test['TITLE']+test['ABSTRACT']"
      ],
      "execution_count": 38,
      "outputs": []
    },
    {
      "cell_type": "code",
      "metadata": {
        "id": "9bgJc9yIdls_",
        "colab_type": "code",
        "colab": {}
      },
      "source": [
        "testing_data=[tokenizer.encode(testing) for testing in test['TEXT']]\n",
        "testing_data=tf.keras.preprocessing.sequence.pad_sequences(\n",
        "    testing_data,\n",
        "    value=0,\n",
        "    padding='post',\n",
        "    maxlen=MAX_LEN\n",
        ")"
      ],
      "execution_count": 39,
      "outputs": []
    },
    {
      "cell_type": "code",
      "metadata": {
        "id": "WjCaiXkigsLO",
        "colab_type": "code",
        "colab": {}
      },
      "source": [
        "test['Computer Science']=np.round(dcnn.predict(testing_data)>=0.5)\n",
        "test['Physics']=np.round(dcnn_2.predict(testing_data)>=0.5)\n",
        "test['Mathematics']=np.round(dcnn_3.predict(testing_data)>=0.5)\n",
        "test['Statistics']=np.round(dcnn_4.predict(testing_data)>=0.5)\n",
        "test['Quantitative Biology']=np.round(dcnn_5.predict(testing_data)>=0.5)\n",
        "test['Quatitative Finance']=np.round(dcnn_6.predict(testing_data)>=0.5)"
      ],
      "execution_count": 43,
      "outputs": []
    },
    {
      "cell_type": "code",
      "metadata": {
        "id": "lAphmaLDwXa2",
        "colab_type": "code",
        "colab": {
          "base_uri": "https://localhost:8080/",
          "height": 195
        },
        "outputId": "93e5888a-4c6c-4997-90fe-660865588165"
      },
      "source": [
        "sub=test[['ID','Computer Science','Physics','Mathematics','Statistics','Quantitative Biology','Quatitative Finance']]\n",
        "sub.head()"
      ],
      "execution_count": 44,
      "outputs": [
        {
          "output_type": "execute_result",
          "data": {
            "text/html": [
              "<div>\n",
              "<style scoped>\n",
              "    .dataframe tbody tr th:only-of-type {\n",
              "        vertical-align: middle;\n",
              "    }\n",
              "\n",
              "    .dataframe tbody tr th {\n",
              "        vertical-align: top;\n",
              "    }\n",
              "\n",
              "    .dataframe thead th {\n",
              "        text-align: right;\n",
              "    }\n",
              "</style>\n",
              "<table border=\"1\" class=\"dataframe\">\n",
              "  <thead>\n",
              "    <tr style=\"text-align: right;\">\n",
              "      <th></th>\n",
              "      <th>ID</th>\n",
              "      <th>Computer Science</th>\n",
              "      <th>Physics</th>\n",
              "      <th>Mathematics</th>\n",
              "      <th>Statistics</th>\n",
              "      <th>Quantitative Biology</th>\n",
              "      <th>Quatitative Finance</th>\n",
              "    </tr>\n",
              "  </thead>\n",
              "  <tbody>\n",
              "    <tr>\n",
              "      <th>0</th>\n",
              "      <td>20973</td>\n",
              "      <td>0.0</td>\n",
              "      <td>0.0</td>\n",
              "      <td>0.0</td>\n",
              "      <td>1.0</td>\n",
              "      <td>0.0</td>\n",
              "      <td>0.0</td>\n",
              "    </tr>\n",
              "    <tr>\n",
              "      <th>1</th>\n",
              "      <td>20974</td>\n",
              "      <td>0.0</td>\n",
              "      <td>1.0</td>\n",
              "      <td>0.0</td>\n",
              "      <td>0.0</td>\n",
              "      <td>0.0</td>\n",
              "      <td>0.0</td>\n",
              "    </tr>\n",
              "    <tr>\n",
              "      <th>2</th>\n",
              "      <td>20975</td>\n",
              "      <td>1.0</td>\n",
              "      <td>0.0</td>\n",
              "      <td>0.0</td>\n",
              "      <td>0.0</td>\n",
              "      <td>0.0</td>\n",
              "      <td>0.0</td>\n",
              "    </tr>\n",
              "    <tr>\n",
              "      <th>3</th>\n",
              "      <td>20976</td>\n",
              "      <td>0.0</td>\n",
              "      <td>1.0</td>\n",
              "      <td>0.0</td>\n",
              "      <td>0.0</td>\n",
              "      <td>0.0</td>\n",
              "      <td>0.0</td>\n",
              "    </tr>\n",
              "    <tr>\n",
              "      <th>4</th>\n",
              "      <td>20977</td>\n",
              "      <td>1.0</td>\n",
              "      <td>0.0</td>\n",
              "      <td>0.0</td>\n",
              "      <td>0.0</td>\n",
              "      <td>0.0</td>\n",
              "      <td>0.0</td>\n",
              "    </tr>\n",
              "  </tbody>\n",
              "</table>\n",
              "</div>"
            ],
            "text/plain": [
              "      ID  Computer Science  ...  Quantitative Biology  Quatitative Finance\n",
              "0  20973               0.0  ...                   0.0                  0.0\n",
              "1  20974               0.0  ...                   0.0                  0.0\n",
              "2  20975               1.0  ...                   0.0                  0.0\n",
              "3  20976               0.0  ...                   0.0                  0.0\n",
              "4  20977               1.0  ...                   0.0                  0.0\n",
              "\n",
              "[5 rows x 7 columns]"
            ]
          },
          "metadata": {
            "tags": []
          },
          "execution_count": 44
        }
      ]
    },
    {
      "cell_type": "code",
      "metadata": {
        "id": "faRuYlipgzN1",
        "colab_type": "code",
        "colab": {}
      },
      "source": [
        "sub.to_csv('Submission.csv',index=False)"
      ],
      "execution_count": 45,
      "outputs": []
    },
    {
      "cell_type": "code",
      "metadata": {
        "id": "ZHdLmdjFydO3",
        "colab_type": "code",
        "colab": {}
      },
      "source": [
        ""
      ],
      "execution_count": null,
      "outputs": []
    }
  ]
}